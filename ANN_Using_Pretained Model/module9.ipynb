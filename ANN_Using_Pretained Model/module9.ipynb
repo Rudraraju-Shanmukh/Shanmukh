{
 "cells": [
  {
   "cell_type": "code",
   "execution_count": 1,
   "metadata": {},
   "outputs": [
    {
     "name": "stdout",
     "output_type": "stream",
     "text": [
      "WARNING:tensorflow:From c:\\Users\\13132\\anaconda3\\envs\\Ece5831_new_env\\lib\\site-packages\\keras\\src\\losses.py:2976: The name tf.losses.sparse_softmax_cross_entropy is deprecated. Please use tf.compat.v1.losses.sparse_softmax_cross_entropy instead.\n",
      "\n"
     ]
    }
   ],
   "source": [
    "\n",
    "import matplotlib.pyplot as plt\n",
    "import tensorflow as tf\n",
    "import os\n",
    "import random\n",
    "import numpy\n",
    "import shutil\n",
    "from tensorflow.keras.preprocessing import image"
   ]
  },
  {
   "cell_type": "code",
   "execution_count": 2,
   "metadata": {},
   "outputs": [],
   "source": [
    "from dogs_cats_pre import DogsCats\n",
    "from dogs_cats_fine import DogsCatsFine"
   ]
  },
  {
   "cell_type": "code",
   "execution_count": 3,
   "metadata": {},
   "outputs": [],
   "source": [
    "data_from_kaggle = \"data-from-kaggle/train\"\n",
    "data_dirname = \"dogs-vs-cats\""
   ]
  },
  {
   "cell_type": "code",
   "execution_count": 4,
   "metadata": {},
   "outputs": [],
   "source": [
    "def make_dataset(subset_name, start_idx, end_idx):\n",
    "    for category in { \"cat\", \"dog\" }:\n",
    "       dir = f\"{data_dirname}/{subset_name}/{category}\"\n",
    "       os.makedirs(dir)\n",
    "       fnames = [f\"{category}.{i}.jpg\" for i in range(start_idx, end_idx)]\n",
    "       for fname in fnames: \n",
    "             shutil.copyfile(src=f\"{data_from_kaggle}/{fname}\", dst=f\"{dir}/{fname}\")"
   ]
  },
  {
   "cell_type": "code",
   "execution_count": 5,
   "metadata": {},
   "outputs": [
    {
     "ename": "FileExistsError",
     "evalue": "[WinError 183] Cannot create a file when that file already exists: 'dogs-vs-cats/train/cat'",
     "output_type": "error",
     "traceback": [
      "\u001b[1;31m---------------------------------------------------------------------------\u001b[0m",
      "\u001b[1;31mFileExistsError\u001b[0m                           Traceback (most recent call last)",
      "\u001b[1;32mc:\\Users\\13132\\Documents\\Pattern_Recoginition_NN\\Homework_2\\ece5831-2023-assignment-2\\ece5831-2023-assignment-2\\Assignment_9\\module9.ipynb Cell 5\u001b[0m line \u001b[0;36m1\n\u001b[1;32m----> <a href='vscode-notebook-cell:/c%3A/Users/13132/Documents/Pattern_Recoginition_NN/Homework_2/ece5831-2023-assignment-2/ece5831-2023-assignment-2/Assignment_9/module9.ipynb#W4sZmlsZQ%3D%3D?line=0'>1</a>\u001b[0m make_dataset(\u001b[39m\"\u001b[39;49m\u001b[39mtrain\u001b[39;49m\u001b[39m\"\u001b[39;49m, \u001b[39m0\u001b[39;49m, \u001b[39m1000\u001b[39;49m)\n\u001b[0;32m      <a href='vscode-notebook-cell:/c%3A/Users/13132/Documents/Pattern_Recoginition_NN/Homework_2/ece5831-2023-assignment-2/ece5831-2023-assignment-2/Assignment_9/module9.ipynb#W4sZmlsZQ%3D%3D?line=1'>2</a>\u001b[0m make_dataset(\u001b[39m\"\u001b[39m\u001b[39mvalidation\u001b[39m\u001b[39m\"\u001b[39m, \u001b[39m1000\u001b[39m, \u001b[39m1500\u001b[39m)\n\u001b[0;32m      <a href='vscode-notebook-cell:/c%3A/Users/13132/Documents/Pattern_Recoginition_NN/Homework_2/ece5831-2023-assignment-2/ece5831-2023-assignment-2/Assignment_9/module9.ipynb#W4sZmlsZQ%3D%3D?line=2'>3</a>\u001b[0m make_dataset(\u001b[39m\"\u001b[39m\u001b[39mtest\u001b[39m\u001b[39m\"\u001b[39m, \u001b[39m1500\u001b[39m, \u001b[39m2500\u001b[39m)\n",
      "\u001b[1;32mc:\\Users\\13132\\Documents\\Pattern_Recoginition_NN\\Homework_2\\ece5831-2023-assignment-2\\ece5831-2023-assignment-2\\Assignment_9\\module9.ipynb Cell 5\u001b[0m line \u001b[0;36m4\n\u001b[0;32m      <a href='vscode-notebook-cell:/c%3A/Users/13132/Documents/Pattern_Recoginition_NN/Homework_2/ece5831-2023-assignment-2/ece5831-2023-assignment-2/Assignment_9/module9.ipynb#W4sZmlsZQ%3D%3D?line=1'>2</a>\u001b[0m \u001b[39mfor\u001b[39;00m category \u001b[39min\u001b[39;00m { \u001b[39m\"\u001b[39m\u001b[39mcat\u001b[39m\u001b[39m\"\u001b[39m, \u001b[39m\"\u001b[39m\u001b[39mdog\u001b[39m\u001b[39m\"\u001b[39m }:\n\u001b[0;32m      <a href='vscode-notebook-cell:/c%3A/Users/13132/Documents/Pattern_Recoginition_NN/Homework_2/ece5831-2023-assignment-2/ece5831-2023-assignment-2/Assignment_9/module9.ipynb#W4sZmlsZQ%3D%3D?line=2'>3</a>\u001b[0m    \u001b[39mdir\u001b[39m \u001b[39m=\u001b[39m \u001b[39mf\u001b[39m\u001b[39m\"\u001b[39m\u001b[39m{\u001b[39;00mdata_dirname\u001b[39m}\u001b[39;00m\u001b[39m/\u001b[39m\u001b[39m{\u001b[39;00msubset_name\u001b[39m}\u001b[39;00m\u001b[39m/\u001b[39m\u001b[39m{\u001b[39;00mcategory\u001b[39m}\u001b[39;00m\u001b[39m\"\u001b[39m\n\u001b[1;32m----> <a href='vscode-notebook-cell:/c%3A/Users/13132/Documents/Pattern_Recoginition_NN/Homework_2/ece5831-2023-assignment-2/ece5831-2023-assignment-2/Assignment_9/module9.ipynb#W4sZmlsZQ%3D%3D?line=3'>4</a>\u001b[0m    os\u001b[39m.\u001b[39;49mmakedirs(\u001b[39mdir\u001b[39;49m)\n\u001b[0;32m      <a href='vscode-notebook-cell:/c%3A/Users/13132/Documents/Pattern_Recoginition_NN/Homework_2/ece5831-2023-assignment-2/ece5831-2023-assignment-2/Assignment_9/module9.ipynb#W4sZmlsZQ%3D%3D?line=4'>5</a>\u001b[0m    fnames \u001b[39m=\u001b[39m [\u001b[39mf\u001b[39m\u001b[39m\"\u001b[39m\u001b[39m{\u001b[39;00mcategory\u001b[39m}\u001b[39;00m\u001b[39m.\u001b[39m\u001b[39m{\u001b[39;00mi\u001b[39m}\u001b[39;00m\u001b[39m.jpg\u001b[39m\u001b[39m\"\u001b[39m \u001b[39mfor\u001b[39;00m i \u001b[39min\u001b[39;00m \u001b[39mrange\u001b[39m(start_idx, end_idx)]\n\u001b[0;32m      <a href='vscode-notebook-cell:/c%3A/Users/13132/Documents/Pattern_Recoginition_NN/Homework_2/ece5831-2023-assignment-2/ece5831-2023-assignment-2/Assignment_9/module9.ipynb#W4sZmlsZQ%3D%3D?line=5'>6</a>\u001b[0m    \u001b[39mfor\u001b[39;00m fname \u001b[39min\u001b[39;00m fnames: \n",
      "File \u001b[1;32mc:\\Users\\13132\\anaconda3\\envs\\Ece5831_new_env\\lib\\os.py:225\u001b[0m, in \u001b[0;36mmakedirs\u001b[1;34m(name, mode, exist_ok)\u001b[0m\n\u001b[0;32m    223\u001b[0m         \u001b[39mreturn\u001b[39;00m\n\u001b[0;32m    224\u001b[0m \u001b[39mtry\u001b[39;00m:\n\u001b[1;32m--> 225\u001b[0m     mkdir(name, mode)\n\u001b[0;32m    226\u001b[0m \u001b[39mexcept\u001b[39;00m \u001b[39mOSError\u001b[39;00m:\n\u001b[0;32m    227\u001b[0m     \u001b[39m# Cannot rely on checking for EEXIST, since the operating system\u001b[39;00m\n\u001b[0;32m    228\u001b[0m     \u001b[39m# could give priority to other errors like EACCES or EROFS\u001b[39;00m\n\u001b[0;32m    229\u001b[0m     \u001b[39mif\u001b[39;00m \u001b[39mnot\u001b[39;00m exist_ok \u001b[39mor\u001b[39;00m \u001b[39mnot\u001b[39;00m path\u001b[39m.\u001b[39misdir(name):\n",
      "\u001b[1;31mFileExistsError\u001b[0m: [WinError 183] Cannot create a file when that file already exists: 'dogs-vs-cats/train/cat'"
     ]
    }
   ],
   "source": [
    "make_dataset(\"train\", 0, 1000)\n",
    "make_dataset(\"validation\", 1000, 1500)\n",
    "make_dataset(\"test\", 1500, 2500)"
   ]
  },
  {
   "cell_type": "code",
   "execution_count": 6,
   "metadata": {},
   "outputs": [
    {
     "name": "stdout",
     "output_type": "stream",
     "text": [
      "WARNING:tensorflow:From c:\\Users\\13132\\anaconda3\\envs\\Ece5831_new_env\\lib\\site-packages\\keras\\src\\backend.py:873: The name tf.get_default_graph is deprecated. Please use tf.compat.v1.get_default_graph instead.\n",
      "\n",
      "WARNING:tensorflow:From c:\\Users\\13132\\anaconda3\\envs\\Ece5831_new_env\\lib\\site-packages\\keras\\src\\layers\\pooling\\max_pooling2d.py:161: The name tf.nn.max_pool is deprecated. Please use tf.nn.max_pool2d instead.\n",
      "\n",
      "WARNING:tensorflow:From c:\\Users\\13132\\anaconda3\\envs\\Ece5831_new_env\\lib\\site-packages\\keras\\src\\optimizers\\__init__.py:309: The name tf.train.Optimizer is deprecated. Please use tf.compat.v1.train.Optimizer instead.\n",
      "\n",
      "Found 2000 files belonging to 2 classes.\n",
      "Found 1000 files belonging to 2 classes.\n",
      "Found 2000 files belonging to 2 classes.\n",
      "Epoch 1/3\n",
      "WARNING:tensorflow:From c:\\Users\\13132\\anaconda3\\envs\\Ece5831_new_env\\lib\\site-packages\\keras\\src\\utils\\tf_utils.py:492: The name tf.ragged.RaggedTensorValue is deprecated. Please use tf.compat.v1.ragged.RaggedTensorValue instead.\n",
      "\n",
      "WARNING:tensorflow:From c:\\Users\\13132\\anaconda3\\envs\\Ece5831_new_env\\lib\\site-packages\\keras\\src\\engine\\base_layer_utils.py:384: The name tf.executing_eagerly_outside_functions is deprecated. Please use tf.compat.v1.executing_eagerly_outside_functions instead.\n",
      "\n",
      "63/63 [==============================] - 325s 5s/step - loss: 6.9572 - accuracy: 0.8860 - val_loss: 1.4040 - val_accuracy: 0.9550\n",
      "Epoch 2/3\n",
      "63/63 [==============================] - 318s 5s/step - loss: 0.7062 - accuracy: 0.9735 - val_loss: 1.0686 - val_accuracy: 0.9540\n",
      "Epoch 3/3\n",
      "63/63 [==============================] - 315s 5s/step - loss: 0.2415 - accuracy: 0.9865 - val_loss: 0.6422 - val_accuracy: 0.9620\n",
      "INFO:tensorflow:Assets written to: dog_cat_model\\assets\n"
     ]
    },
    {
     "name": "stderr",
     "output_type": "stream",
     "text": [
      "INFO:tensorflow:Assets written to: dog_cat_model\\assets\n"
     ]
    },
    {
     "name": "stdout",
     "output_type": "stream",
     "text": [
      "WARNING:tensorflow:From c:\\Users\\13132\\anaconda3\\envs\\Ece5831_new_env\\lib\\site-packages\\keras\\src\\saving\\legacy\\saved_model\\load.py:107: The name tf.gfile.Exists is deprecated. Please use tf.io.gfile.exists instead.\n",
      "\n"
     ]
    },
    {
     "name": "stderr",
     "output_type": "stream",
     "text": [
      "WARNING:tensorflow:From c:\\Users\\13132\\anaconda3\\envs\\Ece5831_new_env\\lib\\site-packages\\keras\\src\\saving\\legacy\\saved_model\\load.py:107: The name tf.gfile.Exists is deprecated. Please use tf.io.gfile.exists instead.\n",
      "\n"
     ]
    },
    {
     "name": "stdout",
     "output_type": "stream",
     "text": [
      "1/1 [==============================] - 0s 224ms/step\n",
      "The predicted image is a cat\n",
      "63/63 [==============================] - 216s 3s/step - loss: 0.6736 - accuracy: 0.9585\n",
      "Test Accuracy : 0.9585000276565552\n"
     ]
    }
   ],
   "source": [
    "dog_cat_classifier = DogsCats()\n",
    "dog_cat_classifier.compile()\n",
    "dataset_directory = \"dogs-vs-cats\"  \n",
    "train_dataset, validation_dataset, test_dataset = dog_cat_classifier.prepare_datasets(dataset_directory)\n",
    "\n",
    "model_name = 'dog_cat_model'\n",
    "epochs = 3  \n",
    "dog_cat_classifier.fit(train_dataset, validation_dataset, model_name, epochs)\n",
    "\n",
    "test_image_path = 'data-from-kaggle/test1/6.jpg'  \n",
    "dog_cat_classifier.predict(model_name, test_image_path)\n",
    "loss, accuracy = dog_cat_classifier.model.evaluate(test_dataset)\n",
    "print(f\"Test Accuracy : {accuracy}\")"
   ]
  },
  {
   "cell_type": "code",
   "execution_count": 7,
   "metadata": {},
   "outputs": [
    {
     "name": "stdout",
     "output_type": "stream",
     "text": [
      "Found 2000 files belonging to 2 classes.\n",
      "Found 1000 files belonging to 2 classes.\n",
      "Found 2000 files belonging to 2 classes.\n",
      "Epoch 1/3\n",
      "63/63 [==============================] - 360s 6s/step - loss: 3.4664 - accuracy: 0.7255 - val_loss: 0.5396 - val_accuracy: 0.8900\n",
      "Epoch 2/3\n",
      "63/63 [==============================] - 356s 6s/step - loss: 0.7236 - accuracy: 0.8940 - val_loss: 0.3736 - val_accuracy: 0.9220\n",
      "Epoch 3/3\n",
      "63/63 [==============================] - 357s 6s/step - loss: 0.3972 - accuracy: 0.9290 - val_loss: 0.3059 - val_accuracy: 0.9390\n",
      "INFO:tensorflow:Assets written to: dog_cat_aug_model\\assets\n"
     ]
    },
    {
     "name": "stderr",
     "output_type": "stream",
     "text": [
      "INFO:tensorflow:Assets written to: dog_cat_aug_model\\assets\n"
     ]
    },
    {
     "name": "stdout",
     "output_type": "stream",
     "text": [
      "1/1 [==============================] - 0s 193ms/step\n",
      "The predicted image is a cat\n",
      "63/63 [==============================] - 207s 3s/step - loss: 0.3385 - accuracy: 0.9380\n",
      "Test Accuracy : 0.9380000233650208\n"
     ]
    }
   ],
   "source": [
    "dog_cat_fine_classifier = DogsCatsFine()\n",
    "dog_cat_fine_classifier.compile()\n",
    "dataset_directory = \"dogs-vs-cats\"  \n",
    "train_dataset, validation_dataset, test_dataset = dog_cat_fine_classifier.prepare_datasets(dataset_directory)\n",
    "\n",
    "model_name = 'dog_cat_aug_model'\n",
    "epochs = 3  \n",
    "dog_cat_fine_classifier.fit(train_dataset, validation_dataset, model_name, epochs)\n",
    "\n",
    "test_image_path = 'data-from-kaggle/test1/6.jpg' \n",
    "prediction = dog_cat_fine_classifier.predict(model_name, test_image_path)\n",
    "loss, accuracy = dog_cat_fine_classifier.model.evaluate(test_dataset)\n",
    "print(f\"Test Accuracy : {accuracy}\")"
   ]
  },
  {
   "cell_type": "code",
   "execution_count": 11,
   "metadata": {},
   "outputs": [
    {
     "name": "stdout",
     "output_type": "stream",
     "text": [
      "The true image is dog\n",
      "1/1 [==============================] - 0s 187ms/step\n",
      "The predicted image is a dog\n",
      "The true image is cat\n",
      "1/1 [==============================] - 0s 184ms/step\n",
      "The predicted image is a cat\n",
      "The true image is dog\n",
      "1/1 [==============================] - 0s 170ms/step\n",
      "The predicted image is a dog\n",
      "The true image is cat\n",
      "1/1 [==============================] - 0s 186ms/step\n",
      "The predicted image is a cat\n",
      "The true image is dog\n",
      "1/1 [==============================] - 0s 181ms/step\n",
      "The predicted image is a dog\n",
      "The true image is cat\n",
      "1/1 [==============================] - 0s 179ms/step\n",
      "The predicted image is a cat\n",
      "The true image is dog\n",
      "1/1 [==============================] - 0s 180ms/step\n",
      "The predicted image is a dog\n",
      "The true image is cat\n",
      "1/1 [==============================] - 0s 178ms/step\n",
      "The predicted image is a cat\n",
      "The true image is dog\n",
      "1/1 [==============================] - 0s 177ms/step\n",
      "The predicted image is a dog\n",
      "The true image is cat\n",
      "1/1 [==============================] - 0s 195ms/step\n",
      "The predicted image is a cat\n",
      "The true image is dog\n",
      "1/1 [==============================] - 0s 194ms/step\n",
      "The predicted image is a dog\n",
      "The true image is cat\n",
      "1/1 [==============================] - 0s 182ms/step\n",
      "The predicted image is a cat\n",
      "The true image is dog\n",
      "1/1 [==============================] - 0s 194ms/step\n",
      "The predicted image is a dog\n",
      "The true image is cat\n",
      "1/1 [==============================] - 0s 193ms/step\n",
      "The predicted image is a cat\n",
      "The true image is dog\n",
      "1/1 [==============================] - 0s 191ms/step\n",
      "The predicted image is a dog\n",
      "The true image is cat\n",
      "1/1 [==============================] - 0s 179ms/step\n",
      "The predicted image is a cat\n",
      "The true image is dog\n",
      "1/1 [==============================] - 0s 191ms/step\n",
      "The predicted image is a dog\n",
      "The true image is cat\n",
      "1/1 [==============================] - 0s 187ms/step\n",
      "The predicted image is a cat\n",
      "The true image is dog\n",
      "1/1 [==============================] - 0s 192ms/step\n",
      "The predicted image is a dog\n",
      "The true image is cat\n",
      "1/1 [==============================] - 0s 194ms/step\n",
      "The predicted image is a cat\n"
     ]
    }
   ],
   "source": [
    "dogs_cats_test = DogsCats()\n",
    "for i in range(10):\n",
    "    random_integer = random.randint(1600, 2200)\n",
    "    str1 = 'dogs-vs-cats/test/dog/dog.'+str(random_integer)+'.jpg'\n",
    "    print('The true image is dog')\n",
    "    dogs_cats_test.predict('dog_cat_model',str1)\n",
    "    str2 = 'dogs-vs-cats/test/cat/cat.'+str(random_integer)+'.jpg'\n",
    "    print('The true image is cat')\n",
    "    dogs_cats_test.predict('dog_cat_model',str2)\n"
   ]
  },
  {
   "cell_type": "code",
   "execution_count": 12,
   "metadata": {},
   "outputs": [
    {
     "name": "stdout",
     "output_type": "stream",
     "text": [
      "The true image is dog\n",
      "1/1 [==============================] - 0s 193ms/step\n",
      "The predicted image is a dog\n",
      "The true image is cat\n",
      "1/1 [==============================] - 0s 180ms/step\n",
      "The predicted image is a cat\n",
      "The true image is dog\n",
      "1/1 [==============================] - 0s 175ms/step\n",
      "The predicted image is a dog\n",
      "The true image is cat\n",
      "1/1 [==============================] - 0s 185ms/step\n",
      "The predicted image is a cat\n",
      "The true image is dog\n",
      "1/1 [==============================] - 0s 182ms/step\n",
      "The predicted image is a dog\n",
      "The true image is cat\n",
      "1/1 [==============================] - 0s 176ms/step\n",
      "The predicted image is a cat\n",
      "The true image is dog\n",
      "1/1 [==============================] - 0s 178ms/step\n",
      "The predicted image is a dog\n",
      "The true image is cat\n",
      "1/1 [==============================] - 0s 175ms/step\n",
      "The predicted image is a cat\n",
      "The true image is dog\n",
      "1/1 [==============================] - 0s 185ms/step\n",
      "The predicted image is a dog\n",
      "The true image is cat\n",
      "1/1 [==============================] - 0s 187ms/step\n",
      "The predicted image is a cat\n",
      "The true image is dog\n",
      "1/1 [==============================] - 0s 183ms/step\n",
      "The predicted image is a dog\n",
      "The true image is cat\n",
      "1/1 [==============================] - 0s 242ms/step\n",
      "The predicted image is a cat\n",
      "The true image is dog\n",
      "1/1 [==============================] - 0s 190ms/step\n",
      "The predicted image is a dog\n",
      "The true image is cat\n",
      "1/1 [==============================] - 0s 184ms/step\n",
      "The predicted image is a cat\n",
      "The true image is dog\n",
      "1/1 [==============================] - 0s 190ms/step\n",
      "The predicted image is a dog\n",
      "The true image is cat\n",
      "1/1 [==============================] - 0s 197ms/step\n",
      "The predicted image is a cat\n",
      "The true image is dog\n",
      "1/1 [==============================] - 0s 315ms/step\n",
      "The predicted image is a dog\n",
      "The true image is cat\n",
      "1/1 [==============================] - 0s 309ms/step\n",
      "The predicted image is a cat\n",
      "The true image is dog\n",
      "1/1 [==============================] - 0s 284ms/step\n",
      "The predicted image is a cat\n",
      "The true image is cat\n",
      "1/1 [==============================] - 0s 342ms/step\n",
      "The predicted image is a dog\n"
     ]
    }
   ],
   "source": [
    "dogs_cats_aug_test = DogsCatsFine()\n",
    "for i in range(10):\n",
    "    random_integer = random.randint(1600, 2200)\n",
    "    str1 = 'dogs-vs-cats/test/dog/dog.'+str(random_integer)+'.jpg'\n",
    "    print('The true image is dog')\n",
    "    dogs_cats_aug_test.predict('dog_cat_aug_model',str1)\n",
    "    str2 = 'dogs-vs-cats/test/cat/cat.'+str(random_integer)+'.jpg'\n",
    "    print('The true image is cat')\n",
    "    dogs_cats_aug_test.predict('dog_cat_aug_model',str2)"
   ]
  },
  {
   "cell_type": "code",
   "execution_count": null,
   "metadata": {},
   "outputs": [],
   "source": []
  }
 ],
 "metadata": {
  "kernelspec": {
   "display_name": "ece5831-2023",
   "language": "python",
   "name": "python3"
  },
  "language_info": {
   "codemirror_mode": {
    "name": "ipython",
    "version": 3
   },
   "file_extension": ".py",
   "mimetype": "text/x-python",
   "name": "python",
   "nbconvert_exporter": "python",
   "pygments_lexer": "ipython3",
   "version": "3.10.13"
  }
 },
 "nbformat": 4,
 "nbformat_minor": 2
}
