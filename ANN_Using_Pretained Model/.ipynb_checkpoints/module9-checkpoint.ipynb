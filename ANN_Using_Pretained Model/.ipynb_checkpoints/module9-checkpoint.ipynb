{
 "cells": [
  {
   "cell_type": "code",
   "execution_count": 1,
   "metadata": {},
   "outputs": [],
   "source": [
    "import matplotlib.pyplot as plt\n",
    "import tensorflow as tf\n",
    "import os\n",
    "import random\n",
    "import numpy\n",
    "import shutil\n",
    "from tensorflow.keras.preprocessing import image"
   ]
  },
  {
   "cell_type": "code",
   "execution_count": 2,
   "metadata": {},
   "outputs": [],
   "source": [
    "from dogs_cats_pre import DogsCats\n",
    "from dogs_cats_fine import DogsCatsFine"
   ]
  },
  {
   "cell_type": "code",
   "execution_count": 3,
   "metadata": {},
   "outputs": [],
   "source": [
    "data_from_kaggle = \"data-from-kaggle/train\"\n",
    "data_dirname = \"dogs-vs-cats\""
   ]
  },
  {
   "cell_type": "code",
   "execution_count": 4,
   "metadata": {},
   "outputs": [],
   "source": [
    "def make_dataset(subset_name, start_idx, end_idx):\n",
    "    for category in { \"cat\", \"dog\" }:\n",
    "       dir = f\"{data_dirname}/{subset_name}/{category}\"\n",
    "       os.makedirs(dir)\n",
    "       fnames = [f\"{category}.{i}.jpg\" for i in range(start_idx, end_idx)]\n",
    "       for fname in fnames: \n",
    "             shutil.copyfile(src=f\"{data_from_kaggle}/{fname}\", dst=f\"{dir}/{fname}\")"
   ]
  },
  {
   "cell_type": "code",
   "execution_count": 5,
   "metadata": {},
   "outputs": [
    {
     "ename": "FileExistsError",
     "evalue": "[WinError 183] Cannot create a file when that file already exists: 'dogs-vs-cats/train/cat'",
     "output_type": "error",
     "traceback": [
      "\u001b[1;31m---------------------------------------------------------------------------\u001b[0m",
      "\u001b[1;31mFileExistsError\u001b[0m                           Traceback (most recent call last)",
      "\u001b[1;32m~\\AppData\\Local\\Temp\\ipykernel_5272\\1883828249.py\u001b[0m in \u001b[0;36m<module>\u001b[1;34m\u001b[0m\n\u001b[1;32m----> 1\u001b[1;33m \u001b[0mmake_dataset\u001b[0m\u001b[1;33m(\u001b[0m\u001b[1;34m\"train\"\u001b[0m\u001b[1;33m,\u001b[0m \u001b[1;36m0\u001b[0m\u001b[1;33m,\u001b[0m \u001b[1;36m1000\u001b[0m\u001b[1;33m)\u001b[0m\u001b[1;33m\u001b[0m\u001b[1;33m\u001b[0m\u001b[0m\n\u001b[0m\u001b[0;32m      2\u001b[0m \u001b[0mmake_dataset\u001b[0m\u001b[1;33m(\u001b[0m\u001b[1;34m\"validation\"\u001b[0m\u001b[1;33m,\u001b[0m \u001b[1;36m1000\u001b[0m\u001b[1;33m,\u001b[0m \u001b[1;36m1500\u001b[0m\u001b[1;33m)\u001b[0m\u001b[1;33m\u001b[0m\u001b[1;33m\u001b[0m\u001b[0m\n\u001b[0;32m      3\u001b[0m \u001b[0mmake_dataset\u001b[0m\u001b[1;33m(\u001b[0m\u001b[1;34m\"test\"\u001b[0m\u001b[1;33m,\u001b[0m \u001b[1;36m1500\u001b[0m\u001b[1;33m,\u001b[0m \u001b[1;36m2500\u001b[0m\u001b[1;33m)\u001b[0m\u001b[1;33m\u001b[0m\u001b[1;33m\u001b[0m\u001b[0m\n",
      "\u001b[1;32m~\\AppData\\Local\\Temp\\ipykernel_5272\\1651412455.py\u001b[0m in \u001b[0;36mmake_dataset\u001b[1;34m(subset_name, start_idx, end_idx)\u001b[0m\n\u001b[0;32m      2\u001b[0m     \u001b[1;32mfor\u001b[0m \u001b[0mcategory\u001b[0m \u001b[1;32min\u001b[0m \u001b[1;33m{\u001b[0m \u001b[1;34m\"cat\"\u001b[0m\u001b[1;33m,\u001b[0m \u001b[1;34m\"dog\"\u001b[0m \u001b[1;33m}\u001b[0m\u001b[1;33m:\u001b[0m\u001b[1;33m\u001b[0m\u001b[1;33m\u001b[0m\u001b[0m\n\u001b[0;32m      3\u001b[0m        \u001b[0mdir\u001b[0m \u001b[1;33m=\u001b[0m \u001b[1;34mf\"{data_dirname}/{subset_name}/{category}\"\u001b[0m\u001b[1;33m\u001b[0m\u001b[1;33m\u001b[0m\u001b[0m\n\u001b[1;32m----> 4\u001b[1;33m        \u001b[0mos\u001b[0m\u001b[1;33m.\u001b[0m\u001b[0mmakedirs\u001b[0m\u001b[1;33m(\u001b[0m\u001b[0mdir\u001b[0m\u001b[1;33m)\u001b[0m\u001b[1;33m\u001b[0m\u001b[1;33m\u001b[0m\u001b[0m\n\u001b[0m\u001b[0;32m      5\u001b[0m        \u001b[0mfnames\u001b[0m \u001b[1;33m=\u001b[0m \u001b[1;33m[\u001b[0m\u001b[1;34mf\"{category}.{i}.jpg\"\u001b[0m \u001b[1;32mfor\u001b[0m \u001b[0mi\u001b[0m \u001b[1;32min\u001b[0m \u001b[0mrange\u001b[0m\u001b[1;33m(\u001b[0m\u001b[0mstart_idx\u001b[0m\u001b[1;33m,\u001b[0m \u001b[0mend_idx\u001b[0m\u001b[1;33m)\u001b[0m\u001b[1;33m]\u001b[0m\u001b[1;33m\u001b[0m\u001b[1;33m\u001b[0m\u001b[0m\n\u001b[0;32m      6\u001b[0m        \u001b[1;32mfor\u001b[0m \u001b[0mfname\u001b[0m \u001b[1;32min\u001b[0m \u001b[0mfnames\u001b[0m\u001b[1;33m:\u001b[0m\u001b[1;33m\u001b[0m\u001b[1;33m\u001b[0m\u001b[0m\n",
      "\u001b[1;32m~\\anaconda3\\lib\\os.py\u001b[0m in \u001b[0;36mmakedirs\u001b[1;34m(name, mode, exist_ok)\u001b[0m\n\u001b[0;32m    223\u001b[0m             \u001b[1;32mreturn\u001b[0m\u001b[1;33m\u001b[0m\u001b[1;33m\u001b[0m\u001b[0m\n\u001b[0;32m    224\u001b[0m     \u001b[1;32mtry\u001b[0m\u001b[1;33m:\u001b[0m\u001b[1;33m\u001b[0m\u001b[1;33m\u001b[0m\u001b[0m\n\u001b[1;32m--> 225\u001b[1;33m         \u001b[0mmkdir\u001b[0m\u001b[1;33m(\u001b[0m\u001b[0mname\u001b[0m\u001b[1;33m,\u001b[0m \u001b[0mmode\u001b[0m\u001b[1;33m)\u001b[0m\u001b[1;33m\u001b[0m\u001b[1;33m\u001b[0m\u001b[0m\n\u001b[0m\u001b[0;32m    226\u001b[0m     \u001b[1;32mexcept\u001b[0m \u001b[0mOSError\u001b[0m\u001b[1;33m:\u001b[0m\u001b[1;33m\u001b[0m\u001b[1;33m\u001b[0m\u001b[0m\n\u001b[0;32m    227\u001b[0m         \u001b[1;31m# Cannot rely on checking for EEXIST, since the operating system\u001b[0m\u001b[1;33m\u001b[0m\u001b[1;33m\u001b[0m\u001b[0m\n",
      "\u001b[1;31mFileExistsError\u001b[0m: [WinError 183] Cannot create a file when that file already exists: 'dogs-vs-cats/train/cat'"
     ]
    }
   ],
   "source": [
    "make_dataset(\"train\", 0, 1000)\n",
    "make_dataset(\"validation\", 1000, 1500)\n",
    "make_dataset(\"test\", 1500, 2500)"
   ]
  },
  {
   "cell_type": "code",
   "execution_count": null,
   "metadata": {},
   "outputs": [
    {
     "name": "stdout",
     "output_type": "stream",
     "text": [
      "Found 2000 files belonging to 2 classes.\n",
      "Found 1000 files belonging to 2 classes.\n",
      "Found 2000 files belonging to 2 classes.\n",
      "Epoch 1/2\n"
     ]
    }
   ],
   "source": [
    "dog_cat_classifier = DogsCats()\n",
    "dog_cat_classifier.compile()\n",
    "dataset_directory = \"dogs-vs-cats\"  \n",
    "train_dataset, validation_dataset, test_dataset = dog_cat_classifier.prepare_datasets(dataset_directory)\n",
    "model_name = 'dog_cat_model'\n",
    "epochs = 2  \n",
    "dog_cat_classifier.fit(train_dataset, validation_dataset, model_name, epochs)\n",
    "test_image_path = 'data-from-kaggle/test1/10.jpg'  \n",
    "dog_cat_classifier.predict(model_name, test_image_path)\n",
    "loss, accuracy = dog_cat_classifier.model.evaluate(test_dataset)\n",
    "print(f\"Test Accuracy : {accuracy}\")"
   ]
  },
  {
   "cell_type": "code",
   "execution_count": null,
   "metadata": {},
   "outputs": [],
   "source": [
    "dog_cat_fine_classifier = DogsCatsFine()\n",
    "dog_cat_fine_classifier.compile()\n",
    "dataset_directory = \"dogs-vs-cats\"  \n",
    "train_dataset, validation_dataset, test_dataset = dog_cat_fine_classifier.prepare_datasets(dataset_directory)\n",
    "model_name = 'dog_cat_aug_model'\n",
    "epochs = 2  \n",
    "dog_cat_fine_classifier.fit(train_dataset, validation_dataset, model_name, epochs)\n",
    "test_image_path = 'data-from-kaggle/test1/10.jpg' \n",
    "prediction = dog_cat_fine_classifier.predict(model_name, test_image_path)\n",
    "loss, accuracy = dog_cat_fine_classifier.model.evaluate(test_dataset)\n",
    "print(f\"Test Accuracy : {accuracy}\")"
   ]
  },
  {
   "cell_type": "code",
   "execution_count": 11,
   "metadata": {},
   "outputs": [
    {
     "name": "stdout",
     "output_type": "stream",
     "text": [
      "The true image is dog\n",
      "1/1 [==============================] - 0s 187ms/step\n",
      "The predicted image is a dog\n",
      "The true image is cat\n",
      "1/1 [==============================] - 0s 184ms/step\n",
      "The predicted image is a cat\n",
      "The true image is dog\n",
      "1/1 [==============================] - 0s 170ms/step\n",
      "The predicted image is a dog\n",
      "The true image is cat\n",
      "1/1 [==============================] - 0s 186ms/step\n",
      "The predicted image is a cat\n",
      "The true image is dog\n",
      "1/1 [==============================] - 0s 181ms/step\n",
      "The predicted image is a dog\n",
      "The true image is cat\n",
      "1/1 [==============================] - 0s 179ms/step\n",
      "The predicted image is a cat\n",
      "The true image is dog\n",
      "1/1 [==============================] - 0s 180ms/step\n",
      "The predicted image is a dog\n",
      "The true image is cat\n",
      "1/1 [==============================] - 0s 178ms/step\n",
      "The predicted image is a cat\n",
      "The true image is dog\n",
      "1/1 [==============================] - 0s 177ms/step\n",
      "The predicted image is a dog\n",
      "The true image is cat\n",
      "1/1 [==============================] - 0s 195ms/step\n",
      "The predicted image is a cat\n",
      "The true image is dog\n",
      "1/1 [==============================] - 0s 194ms/step\n",
      "The predicted image is a dog\n",
      "The true image is cat\n",
      "1/1 [==============================] - 0s 182ms/step\n",
      "The predicted image is a cat\n",
      "The true image is dog\n",
      "1/1 [==============================] - 0s 194ms/step\n",
      "The predicted image is a dog\n",
      "The true image is cat\n",
      "1/1 [==============================] - 0s 193ms/step\n",
      "The predicted image is a cat\n",
      "The true image is dog\n",
      "1/1 [==============================] - 0s 191ms/step\n",
      "The predicted image is a dog\n",
      "The true image is cat\n",
      "1/1 [==============================] - 0s 179ms/step\n",
      "The predicted image is a cat\n",
      "The true image is dog\n",
      "1/1 [==============================] - 0s 191ms/step\n",
      "The predicted image is a dog\n",
      "The true image is cat\n",
      "1/1 [==============================] - 0s 187ms/step\n",
      "The predicted image is a cat\n",
      "The true image is dog\n",
      "1/1 [==============================] - 0s 192ms/step\n",
      "The predicted image is a dog\n",
      "The true image is cat\n",
      "1/1 [==============================] - 0s 194ms/step\n",
      "The predicted image is a cat\n"
     ]
    }
   ],
   "source": [
    "dogs_cats = DogsCats()\n",
    "for i in range(10):\n",
    "    random_integer = random.randint(1500, 2000)\n",
    "    str1 = 'dogs-vs-cats/test/dog/dog.'+str(random_integer)+'.jpg'\n",
    "    print('The true image is dog')\n",
    "    dogs_cats.predict('dog_cat_model',str1)\n",
    "    str2 = 'dogs-vs-cats/test/cat/cat.'+str(random_integer)+'.jpg'\n",
    "    print('The true image is cat')\n",
    "    dogs_cats.predict('dog_cat_model',str2)\n"
   ]
  },
  {
   "cell_type": "code",
   "execution_count": 12,
   "metadata": {},
   "outputs": [
    {
     "name": "stdout",
     "output_type": "stream",
     "text": [
      "The true image is dog\n",
      "1/1 [==============================] - 0s 193ms/step\n",
      "The predicted image is a dog\n",
      "The true image is cat\n",
      "1/1 [==============================] - 0s 180ms/step\n",
      "The predicted image is a cat\n",
      "The true image is dog\n",
      "1/1 [==============================] - 0s 175ms/step\n",
      "The predicted image is a dog\n",
      "The true image is cat\n",
      "1/1 [==============================] - 0s 185ms/step\n",
      "The predicted image is a cat\n",
      "The true image is dog\n",
      "1/1 [==============================] - 0s 182ms/step\n",
      "The predicted image is a dog\n",
      "The true image is cat\n",
      "1/1 [==============================] - 0s 176ms/step\n",
      "The predicted image is a cat\n",
      "The true image is dog\n",
      "1/1 [==============================] - 0s 178ms/step\n",
      "The predicted image is a dog\n",
      "The true image is cat\n",
      "1/1 [==============================] - 0s 175ms/step\n",
      "The predicted image is a cat\n",
      "The true image is dog\n",
      "1/1 [==============================] - 0s 185ms/step\n",
      "The predicted image is a dog\n",
      "The true image is cat\n",
      "1/1 [==============================] - 0s 187ms/step\n",
      "The predicted image is a cat\n",
      "The true image is dog\n",
      "1/1 [==============================] - 0s 183ms/step\n",
      "The predicted image is a dog\n",
      "The true image is cat\n",
      "1/1 [==============================] - 0s 242ms/step\n",
      "The predicted image is a cat\n",
      "The true image is dog\n",
      "1/1 [==============================] - 0s 190ms/step\n",
      "The predicted image is a dog\n",
      "The true image is cat\n",
      "1/1 [==============================] - 0s 184ms/step\n",
      "The predicted image is a cat\n",
      "The true image is dog\n",
      "1/1 [==============================] - 0s 190ms/step\n",
      "The predicted image is a dog\n",
      "The true image is cat\n",
      "1/1 [==============================] - 0s 197ms/step\n",
      "The predicted image is a cat\n",
      "The true image is dog\n",
      "1/1 [==============================] - 0s 315ms/step\n",
      "The predicted image is a dog\n",
      "The true image is cat\n",
      "1/1 [==============================] - 0s 309ms/step\n",
      "The predicted image is a cat\n",
      "The true image is dog\n",
      "1/1 [==============================] - 0s 284ms/step\n",
      "The predicted image is a cat\n",
      "The true image is cat\n",
      "1/1 [==============================] - 0s 342ms/step\n",
      "The predicted image is a dog\n"
     ]
    }
   ],
   "source": [
    "dogs_cats_aug_fine = DogsCatsFine()\n",
    "for i in range(10):\n",
    "    random_integer = random.randint(1500, 2000)\n",
    "    str1 = 'dogs-vs-cats/test/dog/dog.'+str(random_integer)+'.jpg'\n",
    "    print('The true image is dog')\n",
    "    dogs_cats_aug_fine.predict('dog_cat_aug_model',str1)\n",
    "    str2 = 'dogs-vs-cats/test/cat/cat.'+str(random_integer)+'.jpg'\n",
    "    print('The true image is cat')\n",
    "    dogs_cats_aug_fine.predict('dog_cat_aug_model',str2)"
   ]
  },
  {
   "cell_type": "code",
   "execution_count": null,
   "metadata": {},
   "outputs": [],
   "source": []
  }
 ],
 "metadata": {
  "kernelspec": {
   "display_name": "Python 3 (ipykernel)",
   "language": "python",
   "name": "python3"
  },
  "language_info": {
   "codemirror_mode": {
    "name": "ipython",
    "version": 3
   },
   "file_extension": ".py",
   "mimetype": "text/x-python",
   "name": "python",
   "nbconvert_exporter": "python",
   "pygments_lexer": "ipython3",
   "version": "3.9.13"
  }
 },
 "nbformat": 4,
 "nbformat_minor": 2
}
