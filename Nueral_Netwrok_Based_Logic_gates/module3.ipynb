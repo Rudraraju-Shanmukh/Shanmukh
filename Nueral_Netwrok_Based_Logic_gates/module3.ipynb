{
 "cells": [
  {
   "cell_type": "markdown",
   "metadata": {},
   "source": [
    "Logic gates - Assignment Done By - Sai Shanmukh Varma Rudraraju"
   ]
  },
  {
   "cell_type": "markdown",
   "metadata": {},
   "source": [
    "1. OR gate"
   ]
  },
  {
   "cell_type": "code",
   "execution_count": 38,
   "metadata": {},
   "outputs": [],
   "source": [
    "import numpy as np"
   ]
  },
  {
   "cell_type": "code",
   "execution_count": 39,
   "metadata": {},
   "outputs": [],
   "source": [
    "def print_output(gate,x1,x2,out):\n",
    "    if gate == 'AND':\n",
    "        print(f'{x1} AND {x2} is {out}')\n",
    "    elif gate == 'OR':    \n",
    "        print(f'{x1} OR {x2} is {out}')\n",
    "    elif gate == 'NAND':    \n",
    "        print(f'{x1} NAND {x2} is {out}')\n",
    "    elif gate == 'NOR':    \n",
    "        print(f'{x1} NOR {x2} is {out}')"
   ]
  },
  {
   "cell_type": "code",
   "execution_count": 40,
   "metadata": {},
   "outputs": [],
   "source": [
    "def or_gate(x1, x2):\n",
    "        w1 = 0.5\n",
    "        w2 = 0.5\n",
    "        th = 0.0\n",
    "        # use numpy instead\n",
    "        x = np.array([x1, x2])\n",
    "        w = np.array([w1, w2])\n",
    "\n",
    "        # if x1*self.w1 + x2*self.w2 > self.th:\n",
    "        if np.sum(x*w) > th:\n",
    "            out = 1\n",
    "            return 1\n",
    "        else:\n",
    "            out = 0\n",
    "            return 0 "
   ]
  },
  {
   "cell_type": "code",
   "execution_count": 41,
   "metadata": {},
   "outputs": [
    {
     "name": "stdout",
     "output_type": "stream",
     "text": [
      "1 OR 0 is 1\n"
     ]
    }
   ],
   "source": [
    "out = or_gate(1, 0)\n",
    "print_output('OR',1,0,out)"
   ]
  },
  {
   "cell_type": "markdown",
   "metadata": {},
   "source": [
    "2. AND GATE"
   ]
  },
  {
   "cell_type": "code",
   "execution_count": 42,
   "metadata": {},
   "outputs": [],
   "source": [
    "def and_gate(x1, x2):\n",
    "        w1 = 0.5\n",
    "        w2 = 0.5\n",
    "        th = 0.99\n",
    "        # use numpy instead\n",
    "        x = np.array([x1, x2])\n",
    "        w = np.array([w1, w2])\n",
    "\n",
    "        # if x1*self.w1 + x2*self.w2 > self.th:\n",
    "        if np.sum(x*w) > th:\n",
    "            out = 1\n",
    "            return 1\n",
    "        else:\n",
    "            out = 0\n",
    "            return 0 "
   ]
  },
  {
   "cell_type": "code",
   "execution_count": 43,
   "metadata": {},
   "outputs": [
    {
     "name": "stdout",
     "output_type": "stream",
     "text": [
      "1 AND 0 is 0\n"
     ]
    }
   ],
   "source": [
    "out = and_gate(1, 0)\n",
    "print_output('AND',1,0,out)"
   ]
  },
  {
   "cell_type": "markdown",
   "metadata": {},
   "source": [
    "3.NAND Gate"
   ]
  },
  {
   "cell_type": "code",
   "execution_count": 44,
   "metadata": {},
   "outputs": [],
   "source": [
    "def nand_gate(x1, x2):\n",
    "        w1 = -0.5\n",
    "        w2 = -0.5\n",
    "        th = -0.99\n",
    "        # use numpy instead\n",
    "        x = np.array([x1, x2])\n",
    "        w = np.array([w1, w2])\n",
    "\n",
    "        # if x1*self.w1 + x2*self.w2 > self.th:\n",
    "        if np.sum(x*w) > th:\n",
    "            out = 1\n",
    "            return 1\n",
    "        else:\n",
    "            out = 0\n",
    "            return 0 "
   ]
  },
  {
   "cell_type": "code",
   "execution_count": 45,
   "metadata": {},
   "outputs": [
    {
     "name": "stdout",
     "output_type": "stream",
     "text": [
      "1 NAND 0 is 1\n"
     ]
    }
   ],
   "source": [
    "out = nand_gate(1, 0)\n",
    "print_output('NAND',1,0,out)"
   ]
  },
  {
   "cell_type": "markdown",
   "metadata": {},
   "source": [
    "4.NOR Gate"
   ]
  },
  {
   "cell_type": "code",
   "execution_count": 46,
   "metadata": {},
   "outputs": [],
   "source": [
    "def nor_gate(x1, x2):\n",
    "        w1 = -0.5\n",
    "        w2 = -0.5\n",
    "        th = 0.0\n",
    "        # use numpy instead\n",
    "        x = np.array([x1, x2])\n",
    "        w = np.array([w1, w2])\n",
    "\n",
    "        # if x1*self.w1 + x2*self.w2 > self.th:\n",
    "        if np.sum(x*w) > th:\n",
    "            out = 1\n",
    "            return 1\n",
    "        else:\n",
    "            out = 0\n",
    "            return 0 "
   ]
  },
  {
   "cell_type": "code",
   "execution_count": 47,
   "metadata": {},
   "outputs": [
    {
     "name": "stdout",
     "output_type": "stream",
     "text": [
      "1 NOR 0 is 0\n"
     ]
    }
   ],
   "source": [
    "out = nor_gate(1, 0)\n",
    "print_output('NOR',1,0,out)"
   ]
  },
  {
   "cell_type": "code",
   "execution_count": null,
   "metadata": {},
   "outputs": [],
   "source": []
  },
  {
   "cell_type": "code",
   "execution_count": null,
   "metadata": {},
   "outputs": [],
   "source": []
  },
  {
   "cell_type": "code",
   "execution_count": null,
   "metadata": {},
   "outputs": [],
   "source": []
  }
 ],
 "metadata": {
  "kernelspec": {
   "display_name": "ece5831-2023",
   "language": "python",
   "name": "python3"
  },
  "language_info": {
   "codemirror_mode": {
    "name": "ipython",
    "version": 3
   },
   "file_extension": ".py",
   "mimetype": "text/x-python",
   "name": "python",
   "nbconvert_exporter": "python",
   "pygments_lexer": "ipython3",
   "version": "3.8.17"
  },
  "orig_nbformat": 4
 },
 "nbformat": 4,
 "nbformat_minor": 2
}
